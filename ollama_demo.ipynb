{
 "cells": [
  {
   "cell_type": "code",
   "execution_count": 1,
   "id": "bbee9945",
   "metadata": {},
   "outputs": [],
   "source": [
    "from langchain_ollama import ChatOllama"
   ]
  },
  {
   "cell_type": "code",
   "execution_count": null,
   "id": "7e8b5e66",
   "metadata": {},
   "outputs": [],
   "source": [
    "llm = ChatOllama(\n",
    "    base_url=\"http://localhost:11434\",\n",
    "    model=\"gemma3:4b-it-qat\",\n",
    "    keep_alive=\"5m\" # model stays loaded on gpu for X minutes\n",
    ") "
   ]
  },
  {
   "cell_type": "code",
   "execution_count": 19,
   "id": "e5e82a98",
   "metadata": {},
   "outputs": [],
   "source": [
    "response = await llm.ainvoke(\"How are you?\")"
   ]
  },
  {
   "cell_type": "code",
   "execution_count": 20,
   "id": "f593b927",
   "metadata": {},
   "outputs": [
    {
     "name": "stdout",
     "output_type": "stream",
     "text": [
      "I’m doing well, thank you for asking! As an AI, I don’t really *feel* in the way humans do, but my systems are running smoothly and I’m ready to assist you. 😊 \n",
      "\n",
      "How are *you* doing today? Is there anything you’d like to chat about, or do you need help with something?\n"
     ]
    }
   ],
   "source": [
    "print(response.content)"
   ]
  },
  {
   "cell_type": "code",
   "execution_count": 9,
   "id": "bd3e2d4d",
   "metadata": {},
   "outputs": [],
   "source": [
    "from langchain_core.prompts import ChatPromptTemplate"
   ]
  },
  {
   "cell_type": "code",
   "execution_count": 13,
   "id": "99af21da",
   "metadata": {},
   "outputs": [],
   "source": [
    "prompt = ChatPromptTemplate.from_messages(\n",
    "    [\n",
    "        (\n",
    "            \"system\",\n",
    "            \"You are a dental insurance expert. You will concisely explain a {transaction_type} file.\"\n",
    "        ),\n",
    "        (\"human\", \"{file}\")\n",
    "    ]\n",
    ")"
   ]
  },
  {
   "cell_type": "code",
   "execution_count": 14,
   "id": "b46929fb",
   "metadata": {},
   "outputs": [],
   "source": [
    "chain = prompt | llm"
   ]
  },
  {
   "cell_type": "code",
   "execution_count": null,
   "id": "8efe440c",
   "metadata": {},
   "outputs": [],
   "source": [
    "file_content = \"\"\"ISA*00*          *00*          *01*987654321      *ZZ*123456789      *180508*0833*^*00501*697773230*1*P*:~\n",
    "GS*HC*CLEARINGHOUSE*123456789*20180508*0833*212950697*X*005010X222A1~\n",
    "ST*837*000000001*005010X222A1~\n",
    "BHT*0019*00*7349063984*20180508*0833*CH~\n",
    "NM1*41*2*CLEARINGHOUSE LLC*****46*987654321~\n",
    "PER*IC*CLEARINGHOUSE CLIENT SERVICES*TE*8005551212*FX*8005551212~\n",
    "NM1*40*2*123456789*****46*CHPWA~\n",
    "HL*1**20*1~\n",
    "NM1*85*2*BH CLINIC OF VANCOUVER*****XX*1122334455~\n",
    "N3*12345 MAIN ST~\n",
    "N4*VANCOUVER*WA*98662~\n",
    "REF*EI*720000000~\n",
    "PER*IC*CONTACT*TE*9185551212~\n",
    "NM1*87*2~\n",
    "N3*PO BOX 1234~\n",
    "N4*VANCOUVER*WA*986681234~\n",
    "HL*2*1*22*0~\n",
    "SBR*P*18**COMMUNITY HLTH PLAN OF WASH*****CI~\n",
    "NM1*IL*1*SUBSCRIBER*JOHN*J***MI*987321~\n",
    "N3*987 65TH PL~\n",
    "N4*VANCOUVER*WA*986640001~\n",
    "DMG*D8*19881225*M~\n",
    "NM1*PR*2*COMMUNITY HEALTH PLAN OF WASHINGTON*****PI*CHPWA~\n",
    "CLM*1805080AV3648339*20***57:B:1*Y*A*Y*Y~\n",
    "REF*D9*7349065509~\n",
    "HI*ABK:F1120~\n",
    "NM1*82*1*PROVIDER*JAMES****XX*1112223338~\n",
    "PRV*PE*PXC*261QR0405X~\n",
    "NM1*77*2*BH CLINIC OF VANCOUVER*****XX*1122334455~\n",
    "N3*12345 MAIN ST SUITE A1~\n",
    "N4*VANCOUVER*WA*98662~\n",
    "LX*1~\n",
    "SV1*HC:H0003*20*UN*1***1~\n",
    "DTP*472*D8*20180428~\n",
    "REF*6R*142671~\n",
    "SE*34*000000001~\n",
    "IEA*1*697773230~\"\"\""
   ]
  },
  {
   "cell_type": "code",
   "execution_count": 16,
   "id": "2824966a",
   "metadata": {},
   "outputs": [],
   "source": [
    "response = chain.invoke({\"transaction_type\": \"837\", \"file\": file_content })"
   ]
  },
  {
   "cell_type": "code",
   "execution_count": 17,
   "id": "ba36bb7d",
   "metadata": {},
   "outputs": [
    {
     "name": "stdout",
     "output_type": "stream",
     "text": [
      "Okay, let’s break down this 837 dental insurance file. Here’s a concise explanation:\n",
      "\n",
      "**What is an 837 File?**\n",
      "\n",
      "An 837 file is a standardized electronic transaction file used by dental (and other healthcare) providers to send claims information to dental insurance companies. It's essentially a digital version of a paper claim form.\n",
      "\n",
      "**Key Sections and What They Mean:**\n",
      "\n",
      "*   **ISA*00*00*01*...:** This is the \"Transaction Header\". It identifies the type of transaction and its key details.  The ‘00’ indicates a standard claim.\n",
      "*   **GS*HC*CLEARINGHOUSE*...:** This is the “File Header”. It contains information about the clearinghouse that processed the file.\n",
      "*   **ST*837*000000001*...:** This is the “File Trailer”.  It's a checksum that verifies the file's integrity.\n",
      "*   **BHT*0019*00*7349063984*...:** This is the “Beginning Hierarchical Transaction.” It's the first claim within the file.\n",
      "*   **NM1*...:** These are “Patient/Encounter Demographics.” They provide information about the patient (like name, address) and the encounter (like date of service).  The numbers (e.g., NM1*41*) indicate specific data elements.\n",
      "*   **N3*...:**  This is the “Location.” It provides the address of the provider.\n",
      "*   **N4*...:** This is the “Location - State/Zip.” The state and zip code for the location.\n",
      "*   **REF*...:** This is the “Reference ID.” This is a unique identifier for the claim.\n",
      "*   **PER*...:**  This is the “Payee Information.” It identifies the insurance company.\n",
      "*   **HL*...:** This is the “Hierarchical Level.” It represents the relationship between the patient, provider, and insurance company. ‘HL’ indicates different levels of information.\n",
      "*   **CLM*...:** This is the “Claim Detail.”  It contains the specifics of the service provided (procedure code, fee, etc.).\n",
      "*   **PRV*...:** This is the “Provider Information”. Details about the dentist or provider submitting the claim.\n",
      "*   **SV1*...:** This section relates to \"Service Verification\" and includes things like diagnosis codes.\n",
      "\n",
      "**In simple terms, this file is a detailed record of a dental service provided, sent electronically to the insurance company for payment.**\n",
      "\n",
      "**Disclaimer:** This is a simplified explanation.  837 files are complex and contain many more detailed fields.\n",
      "\n",
      "---\n",
      "\n",
      "Would you like me to explain a specific part of the file in more detail, or perhaps relate it to a specific piece of information (like a procedure code)?\n"
     ]
    }
   ],
   "source": [
    "print(response.content)"
   ]
  }
 ],
 "metadata": {
  "kernelspec": {
   "display_name": ".venv",
   "language": "python",
   "name": "python3"
  },
  "language_info": {
   "codemirror_mode": {
    "name": "ipython",
    "version": 3
   },
   "file_extension": ".py",
   "mimetype": "text/x-python",
   "name": "python",
   "nbconvert_exporter": "python",
   "pygments_lexer": "ipython3",
   "version": "3.10.12"
  }
 },
 "nbformat": 4,
 "nbformat_minor": 5
}
