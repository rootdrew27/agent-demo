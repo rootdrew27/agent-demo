{
 "cells": [
  {
   "cell_type": "code",
   "execution_count": null,
   "id": "5a2259c2",
   "metadata": {},
   "outputs": [],
   "source": [
    "from typing import List, Optional, Dict, Literal\n",
    "from datetime import datetime\n",
    "import json\n",
    "\n",
    "from pydantic import BaseModel, Field, HttpUrl\n",
    "\n",
    "from langchain_core.prompts.chat import ChatPromptTemplate\n",
    "from langchain_core.messages import HumanMessage, BaseMessage, AIMessage\n",
    "from langchain_core.tools import tool\n",
    "from langchain_ollama import ChatOllama\n",
    "\n",
    "from langgraph.graph import StateGraph, START, END\n",
    "from langgraph.graph.message import add_messages"
   ]
  },
  {
   "cell_type": "code",
   "execution_count": 2,
   "id": "941fa261",
   "metadata": {},
   "outputs": [],
   "source": [
    "llm = ChatOllama(\n",
    "    base_url=\"http://localhost:11434\",\n",
    "    model=\"llama3-groq-tool-use:8b\",\n",
    "    temperature=0,\n",
    "    keep_alive=\"10m\" \n",
    ")"
   ]
  },
  {
   "cell_type": "code",
   "execution_count": 125,
   "id": "c819dcf7",
   "metadata": {},
   "outputs": [],
   "source": [
    "primary_assistant_prompt = ChatPromptTemplate.from_messages(\n",
    "    [\n",
    "        (\n",
    "            \"system\",\n",
    "            \"You are a helpful assistant that manages a user's tasks.\"\n",
    "            \"You have access to the tool: retrieve_tasks.\"\n",
    "            \"For any requests made by the user for their tasks, you will use the retreive_tasks tool to get the task information.\"\n",
    "        ),\n",
    "        (\"user\", \"{user_input}\")\n",
    "    ]\n",
    ")"
   ]
  },
  {
   "cell_type": "code",
   "execution_count": 71,
   "id": "9f7228a6",
   "metadata": {},
   "outputs": [],
   "source": [
    "prompt = primary_assistant_prompt.invoke({\"user_input\": \"What are my tasks?\"})"
   ]
  },
  {
   "cell_type": "code",
   "execution_count": null,
   "id": "66b588ef",
   "metadata": {},
   "outputs": [
    {
     "data": {
      "text/plain": [
       "{'messages': [{'content': \"You are a helpful assistant that manages a user's tasks.You have access to the tool: retrieve_tasks.For any requests made by the user for their tasks, you will use the retreive_tasks tool to get the task information.\",\n",
       "   'additional_kwargs': {},\n",
       "   'response_metadata': {},\n",
       "   'type': 'system',\n",
       "   'name': None,\n",
       "   'id': None},\n",
       "  {'content': 'What are my tasks?',\n",
       "   'additional_kwargs': {},\n",
       "   'response_metadata': {},\n",
       "   'type': 'human',\n",
       "   'name': None,\n",
       "   'id': None}]}"
      ]
     },
     "execution_count": 76,
     "metadata": {},
     "output_type": "execute_result"
    }
   ],
   "source": [
    "prompt.model_dump().get(\"messages\", [])"
   ]
  },
  {
   "cell_type": "code",
   "execution_count": 114,
   "id": "d31ee729",
   "metadata": {},
   "outputs": [],
   "source": [
    "def retrieve_tasks(complete: bool | None = None) -> list[str]:\n",
    "    \"\"\"\n",
    "    Get the user's tasks.\n",
    "\n",
    "    Args:\n",
    "\n",
    "        complete: Indicates whether or not the retrieved tasks should be marked as complete or not. Should be left blank to retrieve/get all tasks.\n",
    "    \"\"\"\n",
    "    try:\n",
    "        with open(\"../data/tasks.json\", \"r\") as f:\n",
    "            tasks = json.load(f)\n",
    "        if complete is True:\n",
    "            task_names = [task[\"name\"] for task in tasks if task.done is True]\n",
    "        elif complete is False:\n",
    "            task_names = [task[\"name\"] for task in tasks if task.done is False]\n",
    "        else:\n",
    "            task_names = [task[\"name\"] for task in tasks]\n",
    "        return task_names\n",
    "    except Exception:\n",
    "        raise"
   ]
  },
  {
   "cell_type": "code",
   "execution_count": 105,
   "id": "bdd3f2fb",
   "metadata": {},
   "outputs": [],
   "source": [
    "from typing import Annotated, TypedDict\n",
    "\n",
    "\n",
    "class State(TypedDict):\n",
    "    user_input: str\n",
    "    messages: Annotated[list[BaseMessage], add_messages]"
   ]
  },
  {
   "cell_type": "code",
   "execution_count": 115,
   "id": "10c6facd",
   "metadata": {},
   "outputs": [],
   "source": [
    "tools = [retrieve_tasks]"
   ]
  },
  {
   "cell_type": "code",
   "execution_count": 136,
   "id": "b2b2e265",
   "metadata": {},
   "outputs": [],
   "source": [
    "# TEST MODEL's tool calling ability\n",
    "\n",
    "def test_tool_calling(tools, requests):\n",
    "    assistant_runnable = primary_assistant_prompt | llm.bind_tools(tools)\n",
    "    for req in requests:\n",
    "        response = assistant_runnable.invoke({\"user_input\": req})\n",
    "        assert isinstance(response, AIMessage)\n",
    "        if hasattr(response, \"tool_calls\") and len(response.tool_calls) > 0:\n",
    "            print(f\"Tool Calls are present for request: {req}\")\n",
    "            print(response.tool_calls)\n",
    "        else:\n",
    "            print(f\"No tool calls made for request: {req}\")\n",
    "        print()"
   ]
  },
  {
   "cell_type": "code",
   "execution_count": 137,
   "id": "97d6c864",
   "metadata": {},
   "outputs": [
    {
     "name": "stdout",
     "output_type": "stream",
     "text": [
      "Tool Calls are present for request: Get all of my tasks.\n",
      "[{'name': 'retrieve_tasks', 'args': {}, 'id': 'ede30e95-825f-49c4-a423-f1228380de6b', 'type': 'tool_call'}]\n",
      "\n",
      "No tool calls made for request: What unfinished tasks do I have?\n",
      "\n",
      "Tool Calls are present for request: Get my finished tasks please.\n",
      "[{'name': 'retrieve_tasks', 'args': {'complete': True}, 'id': 'a11c34b8-a61d-42e3-a6d2-c9cc005fe2f8', 'type': 'tool_call'}]\n",
      "\n"
     ]
    }
   ],
   "source": [
    "test_tool_calling(tools=tools, requests=(\"Get all of my tasks.\", \"What unfinished tasks do I have?\", \"Get my finished tasks please.\"))"
   ]
  },
  {
   "cell_type": "code",
   "execution_count": 96,
   "id": "f71eca9a",
   "metadata": {},
   "outputs": [],
   "source": [
    "def route(state: State):\n",
    "    if messages := state.get(\"messages\", []):\n",
    "        ai_message = messages[-1]\n",
    "        assert isinstance(ai_message, AIMessage), f\"The most recent message ({ai_message}) must be an AIMessage.\"\n",
    "    else:\n",
    "        raise ValueError(\"Messages are not present in state\")\n",
    "    if hasattr(ai_message, \"tool_calls\") and len(ai_message.tool_calls) > 0:\n",
    "        return \"tools\"\n",
    "    else:\n",
    "        return END"
   ]
  },
  {
   "cell_type": "code",
   "execution_count": null,
   "id": "bb72180a",
   "metadata": {},
   "outputs": [],
   "source": [
    "llm.bind_tools(tools)"
   ]
  },
  {
   "cell_type": "code",
   "execution_count": 116,
   "id": "6a752b94",
   "metadata": {},
   "outputs": [],
   "source": [
    "llm_with_tools = llm.bind_tools(tools)\n",
    "\n",
    "def chatbot(state: State):\n",
    "    return {\"messages\": [llm_with_tools.invoke(state[\"messages\"])]}"
   ]
  },
  {
   "cell_type": "code",
   "execution_count": 98,
   "id": "9c7008b9",
   "metadata": {},
   "outputs": [],
   "source": [
    "def refine_prompt(state: State):\n",
    "    if messages := primary_assistant_prompt.invoke({\"user_input\": state[\"user_input\"]}).model_dump().get(\"messages\", []):\n",
    "        return {\"messages\": messages}\n",
    "    else:\n",
    "        raise ValueError(\"Prompt must have a non-empty messages list.\")"
   ]
  },
  {
   "cell_type": "code",
   "execution_count": 117,
   "id": "611416fd",
   "metadata": {},
   "outputs": [],
   "source": [
    "tool_node = ToolNode([retrieve_tasks])"
   ]
  },
  {
   "cell_type": "code",
   "execution_count": 118,
   "id": "c7a83573",
   "metadata": {},
   "outputs": [],
   "source": [
    "builder = StateGraph(State)\n",
    "\n",
    "builder.add_node(\"refine_prompt\", refine_prompt)\n",
    "builder.add_node(\"chatbot\", chatbot)\n",
    "builder.add_node(\"tools\", tool_node)\n",
    "\n",
    "builder.add_edge(START, \"refine_prompt\")\n",
    "builder.add_edge(\"refine_prompt\", \"chatbot\")\n",
    "builder.add_conditional_edges(\"chatbot\", route, {\"tools\": \"tools\", END: END})\n",
    "builder.add_edge(\"tools\", \"chatbot\")\n",
    "\n",
    "graph = builder.compile()"
   ]
  },
  {
   "cell_type": "code",
   "execution_count": 119,
   "id": "14df7988",
   "metadata": {},
   "outputs": [
    {
     "data": {
      "image/png": "[encoded data removed]",
      "text/plain": [
       "<IPython.core.display.Image object>"
      ]
     },
     "metadata": {},
     "output_type": "display_data"
    }
   ],
   "source": [
    "from IPython.display import Image, display\n",
    "\n",
    "try:\n",
    "    display(Image(graph.get_graph().draw_mermaid_png()))\n",
    "except Exception:\n",
    "    # This requires some extra dependencies and is optional\n",
    "    pass"
   ]
  },
  {
   "cell_type": "code",
   "execution_count": 120,
   "id": "8280d454",
   "metadata": {},
   "outputs": [],
   "source": [
    "user_input = input(\"User: \")\n",
    "\n",
    "events = graph.stream({\"user_input\": user_input}, stream_mode=\"updates\")"
   ]
  },
  {
   "cell_type": "code",
   "execution_count": 121,
   "id": "4ce09efb",
   "metadata": {},
   "outputs": [
    {
     "name": "stdout",
     "output_type": "stream",
     "text": [
      "{'refine_prompt': {'messages': [{'content': \"You are a helpful assistant that manages a user's tasks.You have access to the tool: retrieve_tasks.For any requests made by the user for their tasks, you will use the retreive_tasks tool to get the task information.\", 'additional_kwargs': {}, 'response_metadata': {}, 'type': 'system', 'name': None, 'id': None}, {'content': 'Get all of my tasks.', 'additional_kwargs': {}, 'response_metadata': {}, 'type': 'human', 'name': None, 'id': None}]}}\n",
      "{'chatbot': {'messages': [AIMessage(content='', additional_kwargs={}, response_metadata={'model': 'llama3-groq-tool-use:8b', 'created_at': '2025-05-28T16:45:29.222854982Z', 'done': True, 'done_reason': 'stop', 'total_duration': 1574279441, 'load_duration': 25577540, 'prompt_eval_count': 192, 'prompt_eval_duration': 210837431, 'eval_count': 22, 'eval_duration': 1335620898, 'model_name': 'llama3-groq-tool-use:8b'}, id='run--858ad3b4-7baf-4f4c-a6df-35b8217e9d6a-0', tool_calls=[{'name': 'retrieve_tasks', 'args': {}, 'id': '99823da5-73fb-493f-811a-319ef2c24587', 'type': 'tool_call'}], usage_metadata={'input_tokens': 192, 'output_tokens': 22, 'total_tokens': 214})]}}\n",
      "{'tools': {'messages': [ToolMessage(content='[\"Clean room\", \"Clean bathroom\", \"Replace lightbulb in lamp\", \"Buy more RAM\"]', name='retrieve_tasks', id='2630cf17-a34d-4f04-b951-553196edd432', tool_call_id='99823da5-73fb-493f-811a-319ef2c24587')]}}\n",
      "{'chatbot': {'messages': [AIMessage(content='You have the following tasks:\\n1. Clean room\\n2. Clean bathroom\\n3. Replace lightbulb in lamp\\n4. Buy more RAM', additional_kwargs={}, response_metadata={'model': 'llama3-groq-tool-use:8b', 'created_at': '2025-05-28T16:45:31.478442801Z', 'done': True, 'done_reason': 'stop', 'total_duration': 2251141953, 'load_duration': 20841438, 'prompt_eval_count': 240, 'prompt_eval_duration': 198887272, 'eval_count': 31, 'eval_duration': 2029365462, 'model_name': 'llama3-groq-tool-use:8b'}, id='run--b349ff69-fb76-4359-9426-2873508d6202-0', usage_metadata={'input_tokens': 240, 'output_tokens': 31, 'total_tokens': 271})]}}\n"
     ]
    }
   ],
   "source": [
    "for event in events:\n",
    "    print(event)"
   ]
  }
 ],
 "metadata": {
  "kernelspec": {
   "display_name": ".venv",
   "language": "python",
   "name": "python3"
  },
  "language_info": {
   "codemirror_mode": {
    "name": "ipython",
    "version": 3
   },
   "file_extension": ".py",
   "mimetype": "text/x-python",
   "name": "python",
   "nbconvert_exporter": "python",
   "pygments_lexer": "ipython3",
   "version": "3.10.12"
  }
 },
 "nbformat": 4,
 "nbformat_minor": 5
}
